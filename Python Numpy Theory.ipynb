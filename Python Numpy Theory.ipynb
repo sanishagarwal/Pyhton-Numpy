{
 "cells": [
  {
   "cell_type": "markdown",
   "metadata": {},
   "source": [
    "# __*Python NumPy Theory*__"
   ]
  },
  {
   "cell_type": "markdown",
   "metadata": {},
   "source": [
    "## 1. Explain the purpose and advantages of NumPy in scientific computing and data analysis. How does it enhance Python's capabilities for numerical operations?"
   ]
  },
  {
   "cell_type": "markdown",
   "metadata": {},
   "source": [
    "NumPy (Numerical Python) is a powerful library that enhances Python’s capabilities for scientific computing and data analysis. Its core feature is the N-dimensional array (ndarray), which allows efficient storage and manipulation of large datasets, offering significant performance improvements over Python’s built-in data structures like lists. Here's how NumPy contributes to scientific computing:\n",
    "\n",
    "### 1. __Purpose of NumPy:__\n",
    "- __Efficient numerical operations:__ NumPy is designed for fast and efficient numerical computations. It allows operations like addition, multiplication, and other mathematical functions to be performed element-wise on arrays.\n",
    "- __Multi-dimensional arrays:__ Provides support for large, multi-dimensional arrays and matrices, which are essential in scientific computing.\n",
    "- __Mathematical functions and linear algebra:__ Includes numerous built-in mathematical functions such as trigonometric, statistical, and algebraic operations that are optimized for speed.\n",
    "- __Interoperability:__ It integrates easily with other scientific computing libraries like SciPy, Pandas, and matplotlib, enhancing Python’s ecosystem for data analysis and visualization.\n",
    "- __Efficient memory usage:__ NumPy arrays are more compact and efficient than Python lists or tuples, consuming less memory.\n",
    "### 2. __Advantages of NumPy:__\n",
    "- __Performance improvement:__ NumPy arrays use contiguous memory blocks, allowing for fast and vectorized operations without the need for Python loops, which significantly speeds up numerical computations.\n",
    "- __Broadcasting:__ This feature allows NumPy to perform arithmetic operations on arrays of different shapes in an element-wise manner without explicitly reshaping or replicating data, simplifying code and improving performance.\n",
    "- __Vectorized operations:__ NumPy supports vectorized operations, allowing you to apply functions to entire arrays without the need for explicit loops, leading to cleaner and faster code.\n",
    "- __Multi-dimensional slicing:__ Arrays can be sliced in multiple dimensions, making it easier to extract and manipulate subsets of the data.\n",
    "- __Support for scientific functions:__ NumPy provides functions for matrix operations, Fourier transforms, random number generation, and many other scientific tasks, making it a cornerstone for scientific computing.\n",
    "- __Ease of integration with C/C++ and Fortran:__ NumPy arrays can be used in conjunction with C or Fortran code, making it easy to speed up critical parts of code.\n",
    "### 3. __Enhancement of Python’s Numerical Capabilities:__\n",
    "- __Optimized for large-scale data:__ With its efficient data structures and operations, NumPy allows Python to handle large datasets and perform complex computations that would be slower or more cumbersome using native Python.\n",
    "- __Faster computation for numerical operations:__ Since NumPy is implemented in C and optimized for performance, it dramatically accelerates tasks such as matrix multiplication, statistical analysis, and numerical simulation.\n",
    "- __Mathematical consistency:__ It ensures consistent and accurate floating-point operations, which are critical in scientific analysis."
   ]
  },
  {
   "cell_type": "markdown",
   "metadata": {},
   "source": [
    "## 2. Compare and contrast np.mean() and np.average() functions in NumPy. When would you use one over the  other?"
   ]
  },
  {
   "cell_type": "markdown",
   "metadata": {},
   "source": [
    "Both `np.mean()` and `np.average()` in NumPy are used to compute the average of elements in an array, but they have subtle differences in functionality, particularly regarding the use of weights. Here's a detailed comparison:\n",
    "\n",
    "### 1. __np.mean():__\n",
    "- __Purpose:__ It calculates the arithmetic mean (simple average) of the array elements.\n",
    "- __Syntax:__ `np.mean(a, axis=None, dtype=None, out=None, keepdims=False)`\n",
    "- __Weights:__ `np.mean()` does not accept weights. It computes the mean by summing all elements and dividing by the number of elements.\n",
    "- __Axis argument:__ You can specify the axis along which to compute the mean.\n",
    "    - If `axis=None`, it computes the mean of all elements in the array (global mean).\n",
    "    - If `axis=0` or `axis=1`, it computes the mean along that axis (e.g., column-wise or row-wise for 2D arrays).\n",
    "- __When to use:__ Use `np.mean()` when you need to compute the simple, unweighted average of your data.\n",
    "\n",
    "### 2. __np.average():__\n",
    "- __Purpose:__ It calculates a weighted average of the array elements. If no weights are provided, it defaults to the arithmetic mean, similar to np.mean().\n",
    "- __Syntax:__ `np.average(a, axis=None, weights=None, returned=False)`\n",
    "- __Weights:__ `np.average()` can accept an optional weights argument. This allows you to assign different importance (weights) to each element when calculating the average.\n",
    "    - If `weights=None`, it behaves like `np.mean()`.\n",
    "    - If weights are provided, it computes the weighted sum of elements divided by the sum of the weights.\n",
    "- __Axis argument:__ Similar to `np.mean()`, you can specify the axis along which to compute the average.\n",
    "- __Returned argument:__ If `returned=True`, it returns a tuple where the second value is the sum of the weights.\n",
    "- __When to use:__ Use `np.average()` when you need a weighted average, where certain elements contribute more to the average than others.\n",
    "\n",
    "### 3. __When to Use One Over the Other:__\n",
    "__Use `np.mean()`:__\n",
    "- When you want the simple arithmetic mean of the data.\n",
    "- When there are no weights involved in the calculation.\n",
    "- When you want a more concise and straightforward function call for calculating the mean.\n",
    "__Use `np.average()`:__\n",
    "- When you need a weighted average where different elements contribute differently based on the given weights.\n",
    "- When you want the sum of the weights alongside the average (by using returned=True).\n",
    "\n",
    "### 4. __Example:__\n",
    "Let's say we have four exam scores for a student and each exam has a different weight (importance) in the final grade. The student's scores and the exam weights are as follows:\n",
    "\n",
    "- Scores: [85, 90, 80, 95]\n",
    "- Weights: [0.2, 0.3, 0.1, 0.4]"
   ]
  },
  {
   "cell_type": "code",
   "execution_count": 4,
   "metadata": {},
   "outputs": [
    {
     "name": "stdout",
     "output_type": "stream",
     "text": [
      "Mean (Simple Average): 87.5\n",
      "Weighted Average: 90.0\n"
     ]
    }
   ],
   "source": [
    "import numpy as np\n",
    "\n",
    "# Scores and weights\n",
    "scores = np.array([85, 90, 80, 95])\n",
    "weights = np.array([0.2, 0.3, 0.1, 0.4])\n",
    "\n",
    "# Simple mean (without weights)\n",
    "mean_result = np.mean(scores)\n",
    "\n",
    "# Weighted average (with weights)\n",
    "weighted_average = np.average(scores, weights=weights)\n",
    "\n",
    "print(\"Mean (Simple Average):\", mean_result)\n",
    "print(\"Weighted Average:\", weighted_average)\n"
   ]
  },
  {
   "cell_type": "markdown",
   "metadata": {},
   "source": [
    "## 3. Describe the methods for reversing a NumPy array along different axes. Provide examples for 1D and 2D  arrays."
   ]
  },
  {
   "cell_type": "markdown",
   "metadata": {},
   "source": [
    "Reversing a NumPy array involves flipping the elements of the array along a particular axis. There are multiple methods for reversing a NumPy array, and the approach depends on the dimensionality (1D, 2D, etc.) and the specific axis along which you want to reverse the array.\n",
    "\n",
    "### __Methods to Reverse a NumPy Array:__\n",
    "1. __Using Slicing ([::-1]):__\n",
    "The simplest and most common way to reverse an array is by using slicing. The slice [::-1] reverses the array along a given axis.\n",
    "2. __Using np.flip():__\n",
    "The np.flip() function reverses the array along a specified axis. It is more flexible than slicing and works for both 1D and higher-dimensional arrays.\n",
    "3. __Using np.flipud() (Flip Up-Down):__\n",
    "This function is specifically for flipping an array vertically (i.e., along the first axis). It is commonly used for 2D arrays.\n",
    "4. __Using np.fliplr() (Flip Left-Right):__\n",
    "This function is used for flipping an array horizontally (i.e., along the second axis in 2D arrays).\n"
   ]
  },
  {
   "cell_type": "code",
   "execution_count": 5,
   "metadata": {},
   "outputs": [
    {
     "name": "stdout",
     "output_type": "stream",
     "text": [
      "Original 1D Array: [1 2 3 4 5]\n",
      "Reversed 1D Array: [5 4 3 2 1]\n"
     ]
    }
   ],
   "source": [
    "# Reversing a 1D Array\n",
    "# Using Slicing ([::-1]):\n",
    "\n",
    "import numpy as np\n",
    "\n",
    "# 1D Array\n",
    "arr_1d = np.array([1, 2, 3, 4, 5])\n",
    "\n",
    "# Reverse using slicing\n",
    "reversed_1d = arr_1d[::-1]\n",
    "\n",
    "print(\"Original 1D Array:\", arr_1d)\n",
    "print(\"Reversed 1D Array:\", reversed_1d)\n"
   ]
  },
  {
   "cell_type": "code",
   "execution_count": 6,
   "metadata": {},
   "outputs": [
    {
     "name": "stdout",
     "output_type": "stream",
     "text": [
      "Reversed 1D Array using np.flip(): [5 4 3 2 1]\n"
     ]
    }
   ],
   "source": [
    "# Using np.flip():\n",
    "\n",
    "reversed_1d_flip = np.flip(arr_1d)\n",
    "print(\"Reversed 1D Array using np.flip():\", reversed_1d_flip)\n"
   ]
  },
  {
   "cell_type": "code",
   "execution_count": 14,
   "metadata": {},
   "outputs": [
    {
     "name": "stdout",
     "output_type": "stream",
     "text": [
      "Original 2D Array:\n",
      " [[1 2 3]\n",
      " [4 5 6]\n",
      " [7 8 9]]\n",
      "Fully Reversed 2D Array:\n",
      "[[9 8 7]\n",
      " [6 5 4]\n",
      " [3 2 1]]\n"
     ]
    }
   ],
   "source": [
    "# Reversing a 2D Array\n",
    "# Using slicing:\n",
    "\n",
    "arr_2d = np.array([[1, 2, 3], [4, 5, 6], [7, 8, 9]])\n",
    "\n",
    "print(\"Original 2D Array:\\n\", arr_2d)\n",
    "\n",
    "reversed_2d = arr_2d[::-1, ::-1]\n",
    "print(\"Fully Reversed 2D Array:\")\n",
    "print(reversed_2d)\n"
   ]
  },
  {
   "cell_type": "code",
   "execution_count": 15,
   "metadata": {},
   "outputs": [
    {
     "name": "stdout",
     "output_type": "stream",
     "text": [
      "Fully Reversed 2D Array using np.flip():\n",
      "[[9 8 7]\n",
      " [6 5 4]\n",
      " [3 2 1]]\n"
     ]
    }
   ],
   "source": [
    "# Using np.flip():\n",
    "\n",
    "fully_reversed = np.flip(arr_2d)\n",
    "print(\"Fully Reversed 2D Array using np.flip():\")\n",
    "print(fully_reversed)\n"
   ]
  },
  {
   "cell_type": "code",
   "execution_count": 16,
   "metadata": {},
   "outputs": [
    {
     "name": "stdout",
     "output_type": "stream",
     "text": [
      "Rows Reversed (Flip Up-Down):\n",
      "[[7 8 9]\n",
      " [4 5 6]\n",
      " [1 2 3]]\n"
     ]
    }
   ],
   "source": [
    "# Reversing along Rows (Flip Vertically)\n",
    "# To reverse the array row-wise (up-down), you can use slicing or np.flipud()\n",
    "# Using slicing:\n",
    "\n",
    "reverse_rows = arr_2d[::-1, :]\n",
    "print(\"Rows Reversed (Flip Up-Down):\")\n",
    "print(reverse_rows)\n",
    "\n"
   ]
  },
  {
   "cell_type": "code",
   "execution_count": 17,
   "metadata": {},
   "outputs": [
    {
     "name": "stdout",
     "output_type": "stream",
     "text": [
      "Rows Reversed using np.flipud():\n",
      "[[7 8 9]\n",
      " [4 5 6]\n",
      " [1 2 3]]\n"
     ]
    }
   ],
   "source": [
    "# Using np.flipud():\n",
    "\n",
    "reverse_rows_flipud = np.flipud(arr_2d)\n",
    "print(\"Rows Reversed using np.flipud():\")\n",
    "print(reverse_rows_flipud)\n"
   ]
  },
  {
   "cell_type": "code",
   "execution_count": 20,
   "metadata": {},
   "outputs": [
    {
     "name": "stdout",
     "output_type": "stream",
     "text": [
      "Columns Reversed (Flip Left-Right):\n",
      "[[3 2 1]\n",
      " [6 5 4]\n",
      " [9 8 7]]\n"
     ]
    }
   ],
   "source": [
    "# Reversing along Columns (Flip Left-Right):\n",
    "# To reverse the array column-wise (left-right), you can use slicing or np.fliplr().\n",
    "# Using slicing:\n",
    "\n",
    "reverse_columns = arr_2d[:, ::-1]\n",
    "print(\"Columns Reversed (Flip Left-Right):\")\n",
    "print(reverse_columns)\n"
   ]
  },
  {
   "cell_type": "code",
   "execution_count": 21,
   "metadata": {},
   "outputs": [
    {
     "name": "stdout",
     "output_type": "stream",
     "text": [
      "Columns Reversed using np.fliplr():\n",
      "[[3 2 1]\n",
      " [6 5 4]\n",
      " [9 8 7]]\n"
     ]
    }
   ],
   "source": [
    "# Using np.fliplr():\n",
    "\n",
    "reverse_columns_fliplr = np.fliplr(arr_2d)\n",
    "print(\"Columns Reversed using np.fliplr():\")\n",
    "print(reverse_columns_fliplr)\n"
   ]
  },
  {
   "cell_type": "markdown",
   "metadata": {},
   "source": [
    "## 4. How can you determine the data type of elements in a NumPy array? Discuss the importance of data types  in memory management and performance."
   ]
  },
  {
   "cell_type": "markdown",
   "metadata": {},
   "source": [
    "In NumPy, you can determine the data type of elements in an array using the dtype attribute. The data type defines the kind of elements that can be stored in the array, such as integers, floats, or strings, and it plays a crucial role in memory management and performance optimization.\n",
    "\n",
    "__How to Determine the Data Type of Elements in a NumPy Array:__        \n",
    "1. __Using the dtype attribute:__         \n",
    "The dtype attribute of a NumPy array provides information about the data type of its elements."
   ]
  },
  {
   "cell_type": "code",
   "execution_count": 22,
   "metadata": {},
   "outputs": [
    {
     "name": "stdout",
     "output_type": "stream",
     "text": [
      "Data type of array elements: int64\n",
      "Data type of array elements: float64\n"
     ]
    }
   ],
   "source": [
    "import numpy as np\n",
    "\n",
    "# Example 1: Integer array\n",
    "arr = np.array([1, 2, 3])\n",
    "print(\"Data type of array elements:\", arr.dtype)  # Output: int64 (or int32 depending on the system)\n",
    "\n",
    "# Example 2: Float array\n",
    "arr_float = np.array([1.1, 2.2, 3.3])\n",
    "print(\"Data type of array elements:\", arr_float.dtype)  # Output: float64\n"
   ]
  },
  {
   "cell_type": "markdown",
   "metadata": {},
   "source": [
    "   2. __Specifying a data type during array creation:__       \n",
    "   You can explicitly define the data type of an array during its creation using the dtype parameter."
   ]
  },
  {
   "cell_type": "code",
   "execution_count": 23,
   "metadata": {},
   "outputs": [
    {
     "name": "stdout",
     "output_type": "stream",
     "text": [
      "Data type of array elements: int32\n"
     ]
    }
   ],
   "source": [
    "arr_int32 = np.array([1, 2, 3], dtype=np.int32)\n",
    "print(\"Data type of array elements:\", arr_int32.dtype)  # Output: int32\n"
   ]
  },
  {
   "cell_type": "markdown",
   "metadata": {},
   "source": [
    "   3. __Using astype() to cast data types:__             \n",
    "   If you want to change the data type of an array, you can use the astype() method to cast the array to a different data type."
   ]
  },
  {
   "cell_type": "code",
   "execution_count": 24,
   "metadata": {},
   "outputs": [
    {
     "name": "stdout",
     "output_type": "stream",
     "text": [
      "Array after casting: [1 2 3]\n",
      "New data type: int32\n"
     ]
    }
   ],
   "source": [
    "arr_cast = arr_float.astype(np.int32)\n",
    "print(\"Array after casting:\", arr_cast)  # Output: [1 2 3]\n",
    "print(\"New data type:\", arr_cast.dtype)  # Output: int32\n"
   ]
  },
  {
   "cell_type": "markdown",
   "metadata": {},
   "source": [
    "### Importance of Data Types in Memory Management and Performance:\n",
    "The data type of elements in a NumPy array has a direct impact on memory usage and computational performance. Choosing an appropriate data type is essential for optimizing resource efficiency and speed in scientific computing and data analysis tasks.\n",
    "\n",
    "1. __Memory Management:__\n",
    "- __Memory usage depends on data types:__ Different data types occupy different amounts of memory. For example:\n",
    "    - int32 uses 4 bytes (32 bits) per element.\n",
    "    - int64 uses 8 bytes (64 bits) per element.\n",
    "    - float32 uses 4 bytes, while float64 uses 8 bytes.\n",
    "- __Efficient use of memory:__ By selecting the smallest data type that fits the values in your array, you can significantly reduce memory usage. For instance, using int8 (1 byte) for small integers instead of int64 (8 bytes) can save memory, especially when working with large datasets."
   ]
  },
  {
   "cell_type": "code",
   "execution_count": 25,
   "metadata": {},
   "outputs": [
    {
     "name": "stdout",
     "output_type": "stream",
     "text": [
      "3\n",
      "24\n"
     ]
    }
   ],
   "source": [
    "arr_int8 = np.array([1, 2, 3], dtype=np.int8)\n",
    "arr_int64 = np.array([1, 2, 3], dtype=np.int64)\n",
    "\n",
    "print(arr_int8.nbytes)   # Output: 3 bytes\n",
    "print(arr_int64.nbytes)  # Output: 24 bytes\n"
   ]
  },
  {
   "cell_type": "markdown",
   "metadata": {},
   "source": [
    "2. __Performance Optimization:__\n",
    "- __Faster computations with smaller data types:__ Smaller data types allow for faster computation as less data is transferred to and from memory. For example, using int32 or float32 for operations is generally faster than using int64 or float64 because less data is processed per element.\n",
    "- __CPU cache efficiency:__ Smaller data types help store more data in the CPU cache, reducing the time required to fetch and process data during computations.\n",
    "- __Vectorized operations:__ NumPy takes advantage of vectorized operations that apply the same function to entire arrays. The efficiency of these operations improves when the array elements are of smaller data types, as the hardware can process more data simultaneously."
   ]
  },
  {
   "cell_type": "code",
   "execution_count": 26,
   "metadata": {},
   "outputs": [
    {
     "name": "stdout",
     "output_type": "stream",
     "text": [
      "926 μs ± 10.7 μs per loop (mean ± std. dev. of 7 runs, 1,000 loops each)\n",
      "988 μs ± 71.3 μs per loop (mean ± std. dev. of 7 runs, 1,000 loops each)\n"
     ]
    }
   ],
   "source": [
    "arr_large_int32 = np.random.randint(0, 100, size=1000000, dtype=np.int32)\n",
    "arr_large_int64 = np.random.randint(0, 100, size=1000000, dtype=np.int64)\n",
    "\n",
    "%timeit np.sum(arr_large_int32)  # Faster\n",
    "%timeit np.sum(arr_large_int64)  # Slower\n"
   ]
  },
  {
   "cell_type": "markdown",
   "metadata": {},
   "source": [
    "3. __Numerical Precision:__\n",
    "- __Preserving precision:__ For some applications, you may need higher precision (e.g., using float64 instead of float32) to avoid round-off errors in calculations, particularly when working with very small or very large numbers.\n",
    "- __Balancing precision and memory:__ If your application does not require high precision, you can opt for lower-precision data types (e.g., using float32 instead of float64) to reduce memory usage and improve performance."
   ]
  },
  {
   "cell_type": "code",
   "execution_count": 27,
   "metadata": {},
   "outputs": [
    {
     "name": "stdout",
     "output_type": "stream",
     "text": [
      "Float32 precision: [1.1234568]\n",
      "Float64 precision: [1.12345679]\n"
     ]
    }
   ],
   "source": [
    "arr_float32 = np.array([1.123456789], dtype=np.float32)\n",
    "arr_float64 = np.array([1.123456789], dtype=np.float64)\n",
    "\n",
    "print(\"Float32 precision:\", arr_float32)  # Output: [1.1234568] (less precision)\n",
    "print(\"Float64 precision:\", arr_float64)  # Output: [1.123456789] (more precision)\n"
   ]
  },
  {
   "cell_type": "markdown",
   "metadata": {},
   "source": [
    "## 5. Define ndarrays in NumPy and explain their key features. How do they differ from standard Python lists?"
   ]
  },
  {
   "cell_type": "markdown",
   "metadata": {},
   "source": [
    "In NumPy, an ndarray (N-dimensional array) is the core data structure used to store and manipulate large arrays of homogeneous data (i.e., all elements in the array must have the same data type). It is highly optimized for numerical computations and is the backbone of most operations in scientific computing with NumPy.\n",
    "\n",
    "### __Key Features of ndarray:__\n",
    "- __Homogeneous Data:__ All elements in an ndarray have the same data type (dtype), ensuring efficient storage and operations.\n",
    "\n",
    "- __N-dimensional:__ As the name suggests, ndarray supports multi-dimensional arrays (1D, 2D, 3D, or higher). A 1D array is like a vector, a 2D array is like a matrix, and higher-dimensional arrays can be used to represent complex datasets (e.g., images, volumes).\n",
    "\n",
    "- __Fixed Size:__ Once created, an ndarray has a fixed size, meaning you cannot change its shape without creating a new array or reshaping it.\n",
    "\n",
    "- __Efficient Memory Usage:__ Arrays are stored in contiguous blocks of memory, allowing for more efficient memory usage and faster access compared to Python lists.\n",
    "\n",
    "- __Support for Vectorized Operations:__ NumPy arrays support vectorized operations, which means you can perform element-wise operations (like addition, subtraction, multiplication) without writing explicit loops. This leads to faster computations.\n",
    "\n",
    "- __Broadcasting:__ NumPy arrays support broadcasting, a feature that allows operations between arrays of different shapes, under certain conditions. This allows for flexibility and avoids the need to reshape arrays manually in many cases.\n",
    "\n",
    "- __Indexing and Slicing:__ ndarray supports advanced indexing and slicing, allowing you to access or modify specific elements, rows, columns, or subarrays efficiently.\n",
    "\n",
    "- __Element-wise Operations:__ You can perform operations on individual elements or on the entire array at once, making ndarray ideal for mathematical computations.\n",
    "\n"
   ]
  },
  {
   "cell_type": "code",
   "execution_count": 28,
   "metadata": {},
   "outputs": [
    {
     "name": "stdout",
     "output_type": "stream",
     "text": [
      "1D ndarray: [1 2 3 4]\n",
      "2D ndarray:\n",
      "[[1 2 3]\n",
      " [4 5 6]]\n"
     ]
    }
   ],
   "source": [
    "# Example of Creating an ndarray:\n",
    "\n",
    "import numpy as np\n",
    "\n",
    "# Creating a 1D ndarray (vector)\n",
    "arr_1d = np.array([1, 2, 3, 4])\n",
    "\n",
    "# Creating a 2D ndarray (matrix)\n",
    "arr_2d = np.array([[1, 2, 3], [4, 5, 6]])\n",
    "\n",
    "print(\"1D ndarray:\", arr_1d)\n",
    "print(\"2D ndarray:\")\n",
    "print(arr_2d)\n"
   ]
  },
  {
   "cell_type": "markdown",
   "metadata": {},
   "source": [
    "__Differences between ndarray and Standard Python Lists:__\n",
    "\n",
    "| Feature                  | `ndarray` (NumPy)                              | Python List                                       |\n",
    "|--------------------------|------------------------------------------------|--------------------------------------------------|\n",
    "| **Data Type**             | Homogeneous (all elements have the same `dtype`) | Heterogeneous (can store elements of different types) |\n",
    "| **Memory Efficiency**     | More memory-efficient (stored in contiguous blocks) | Less memory-efficient (elements are references)  |\n",
    "| **Speed/Performance**     | Faster, especially for numerical operations    | Slower for large-scale numerical operations       |\n",
    "| **Element-wise Operations** | Supports vectorized operations (e.g., addition, multiplication) | No built-in support for element-wise operations   |\n",
    "| **Dimension Support**     | Supports multi-dimensional arrays (1D, 2D, 3D, etc.) | Primarily 1D (nested lists can simulate higher dimensions) |\n",
    "| **Fixed Size**            | Fixed size after creation                      | Dynamic size (can add/remove elements)            |\n",
    "| **Broadcasting**          | Supports broadcasting for operations on arrays of different shapes | Does not support broadcasting                     |\n",
    "| **Mathematical Operations**| Optimized for matrix and array operations (e.g., `dot`, `sum`, etc.) | No built-in mathematical functions                |\n",
    "| **Indexing and Slicing**  | More powerful and efficient than Python lists  | Less efficient and limited slicing options        |\n"
   ]
  },
  {
   "cell_type": "code",
   "execution_count": 29,
   "metadata": {},
   "outputs": [
    {
     "name": "stdout",
     "output_type": "stream",
     "text": [
      "Element-wise addition: [5 7 9]\n"
     ]
    }
   ],
   "source": [
    "# Example of Element-wise Operations (Vectorization):\n",
    "# Using ndarray:\n",
    "\n",
    "arr1 = np.array([1, 2, 3])\n",
    "arr2 = np.array([4, 5, 6])\n",
    "\n",
    "# Element-wise addition\n",
    "result = arr1 + arr2\n",
    "print(\"Element-wise addition:\", result)\n"
   ]
  },
  {
   "cell_type": "code",
   "execution_count": 30,
   "metadata": {},
   "outputs": [
    {
     "name": "stdout",
     "output_type": "stream",
     "text": [
      "Element-wise addition: [5, 7, 9]\n"
     ]
    }
   ],
   "source": [
    "# Using Python lists (would require a loop or list comprehension):\n",
    "\n",
    "list1 = [1, 2, 3]\n",
    "list2 = [4, 5, 6]\n",
    "\n",
    "# Element-wise addition using list comprehension\n",
    "result = [x + y for x, y in zip(list1, list2)]\n",
    "print(\"Element-wise addition:\", result)\n"
   ]
  },
  {
   "cell_type": "markdown",
   "metadata": {},
   "source": [
    "## 6. Analyze the performance benefits of NumPy arrays over Python lists for large-scale numerical operations."
   ]
  },
  {
   "cell_type": "markdown",
   "metadata": {},
   "source": [
    "NumPy arrays offer significant performance benefits over Python lists, especially when it comes to large-scale numerical operations. These benefits stem from NumPy's efficient memory usage, low-level optimizations, and support for vectorized operations.\n",
    "\n",
    "__Key Performance Benefits of NumPy Arrays over Python Lists:__\n",
    "1. __Efficient Memory Usage:__\n",
    "\n",
    "- Contiguous Memory Storage:                   \n",
    "    NumPy arrays store data in contiguous blocks of memory, making them more memory-efficient than Python lists, which store pointers to objects.\n",
    "- Fixed Data Types:                  \n",
    "    NumPy arrays are homogeneous (all elements share the same data type), allowing efficient memory allocation. In contrast, Python lists can contain elements of different types, leading to higher memory overhead."
   ]
  },
  {
   "cell_type": "code",
   "execution_count": 31,
   "metadata": {},
   "outputs": [
    {
     "name": "stdout",
     "output_type": "stream",
     "text": [
      "NumPy array size in bytes: 40\n",
      "Python list size in bytes: 244\n"
     ]
    }
   ],
   "source": [
    "# Example\n",
    "\n",
    "import numpy as np\n",
    "import sys\n",
    "\n",
    "# Create a NumPy array and a Python list with the same elements\n",
    "arr = np.array([1, 2, 3, 4, 5])\n",
    "py_list = [1, 2, 3, 4, 5]\n",
    "\n",
    "print(\"NumPy array size in bytes:\", arr.nbytes)\n",
    "print(\"Python list size in bytes:\", sys.getsizeof(py_list) + sum(sys.getsizeof(i) for i in py_list))\n",
    "\n",
    "# Result: NumPy arrays use significantly less memory than Python lists because they don’t store extra metadata for each element."
   ]
  },
  {
   "cell_type": "markdown",
   "metadata": {},
   "source": [
    "2. __Vectorized Operations (No Loops Required):__\n",
    "\n",
    "- NumPy arrays support vectorized operations, meaning mathematical operations can be applied element-wise across the entire array without needing explicit loops. This is much faster than Python lists, where loops are required for element-wise operations."
   ]
  },
  {
   "cell_type": "code",
   "execution_count": 32,
   "metadata": {},
   "outputs": [
    {
     "name": "stdout",
     "output_type": "stream",
     "text": [
      "[ 6  7  8  9 10]\n"
     ]
    }
   ],
   "source": [
    "# Example\n",
    "\n",
    "import numpy as np\n",
    "\n",
    "# NumPy vectorized addition\n",
    "arr = np.array([1, 2, 3, 4, 5])\n",
    "result = arr + 5  # Add 5 to each element in the array\n",
    "\n",
    "print(result)  # Output: [6 7 8 9 10]\n"
   ]
  },
  {
   "cell_type": "code",
   "execution_count": 34,
   "metadata": {},
   "outputs": [
    {
     "name": "stdout",
     "output_type": "stream",
     "text": [
      "[6, 7, 8, 9, 10]\n"
     ]
    }
   ],
   "source": [
    "# To achieve the same result with Python lists, you would need to use a loop or list comprehension:\n",
    "\n",
    "# Python list addition\n",
    "py_list = [1, 2, 3, 4, 5]\n",
    "result = [x + 5 for x in py_list]\n",
    "\n",
    "print(result)  # Output: [6, 7, 8, 9, 10]\n",
    "\n",
    "# Vectorized operations in NumPy are much faster and more concise than loops in Python lists."
   ]
  },
  {
   "cell_type": "markdown",
   "metadata": {},
   "source": [
    "3. __Low-level Optimization:__\n",
    "\n",
    "- NumPy is implemented in C and Fortran, allowing it to execute operations more efficiently. Many numerical functions in NumPy are optimized using libraries such as BLAS and LAPACK, which are highly tuned for performance.\n",
    "This makes NumPy significantly faster than Python for computational tasks like matrix multiplication, dot products, and other numerical operations.\n",
    "4. __Broadcasting:__\n",
    "\n",
    "- NumPy arrays support broadcasting, which allows operations between arrays of different shapes without needing explicit reshaping. This reduces the complexity of your code and enhances performance by avoiding the creation of large intermediate arrays."
   ]
  },
  {
   "cell_type": "code",
   "execution_count": 35,
   "metadata": {},
   "outputs": [
    {
     "name": "stdout",
     "output_type": "stream",
     "text": [
      "[[11 12 13]\n",
      " [21 22 23]\n",
      " [31 32 33]]\n"
     ]
    }
   ],
   "source": [
    "arr1 = np.array([1, 2, 3])\n",
    "arr2 = np.array([[10], [20], [30]])\n",
    "\n",
    "# Broadcasting: NumPy will \"broadcast\" arr1 across the rows of arr2\n",
    "result = arr1 + arr2\n",
    "print(result)\n",
    "\n",
    "# In Python lists, you would have to manually manage this operation, leading to slower and more complex code."
   ]
  },
  {
   "cell_type": "markdown",
   "metadata": {},
   "source": [
    "5. __Avoiding Python Overheads:__\n",
    "\n",
    "- Python lists are flexible but come with significant overhead. Each element in a Python list is a reference to an object, and accessing the object requires dereferencing the pointer, which adds extra computation time.\n",
    "- NumPy arrays store raw values directly in memory, making them more efficient for accessing and manipulating large datasets.\n",
    "6. __Handling Large Arrays:__\n",
    "\n",
    "- NumPy is optimized for handling large datasets. Its design allows it to efficiently manage and manipulate large arrays, both in terms of memory and computation.\n",
    "- Python lists, on the other hand, become slower and more memory-intensive as the size of data grows."
   ]
  },
  {
   "cell_type": "code",
   "execution_count": 36,
   "metadata": {},
   "outputs": [
    {
     "name": "stdout",
     "output_type": "stream",
     "text": [
      "NumPy operation time: 0.006930828094482422\n",
      "Python list operation time: 0.0709230899810791\n"
     ]
    }
   ],
   "source": [
    "# Example: Performance Comparison Between NumPy and Python Lists\n",
    "# To illustrate the speed difference between NumPy arrays and Python lists, let’s compare element-wise addition in both:\n",
    "\n",
    "import numpy as np\n",
    "import time\n",
    "\n",
    "# Creating large NumPy array and Python list\n",
    "arr = np.arange(1e6)\n",
    "py_list = list(range(int(1e6)))\n",
    "\n",
    "# Measuring time for element-wise addition (NumPy)\n",
    "start_time = time.time()\n",
    "arr_result = arr + 1\n",
    "print(\"NumPy operation time:\", time.time() - start_time)\n",
    "\n",
    "# Measuring time for element-wise addition (Python list)\n",
    "start_time = time.time()\n",
    "py_list_result = [x + 1 for x in py_list]\n",
    "print(\"Python list operation time:\", time.time() - start_time)\n"
   ]
  },
  {
   "cell_type": "markdown",
   "metadata": {},
   "source": [
    "Explanation:\n",
    "\n",
    "- The NumPy array performs the operation much faster than the Python list due to its low-level optimizations, vectorization, and efficient memory usage.\n",
    "- Python lists require an explicit loop for element-wise operations, which adds significant overhead as the data size increases."
   ]
  },
  {
   "cell_type": "markdown",
   "metadata": {},
   "source": [
    "## 7. Compare vstack() and hstack() functions in NumPy. Provide examples demonstrating their usage and output."
   ]
  },
  {
   "cell_type": "markdown",
   "metadata": {},
   "source": [
    "In NumPy, vstack() and hstack() are used to stack arrays vertically and horizontally, respectively. These functions are particularly useful for combining arrays in different orientations.\n",
    "\n",
    "1. __`np.vstack()` (Vertical Stack)__\n",
    "- Purpose: Stacks arrays vertically, i.e., along rows. The arrays should have the same number of columns (width) but can have different numbers of rows.\n",
    "- Behavior: Combines arrays one on top of the other."
   ]
  },
  {
   "cell_type": "code",
   "execution_count": 37,
   "metadata": {},
   "outputs": [
    {
     "name": "stdout",
     "output_type": "stream",
     "text": [
      "vstack result:\n",
      "[[1 2]\n",
      " [3 4]\n",
      " [5 6]]\n"
     ]
    }
   ],
   "source": [
    "# Example\n",
    "\n",
    "import numpy as np\n",
    "\n",
    "# Creating two 2D arrays\n",
    "arr1 = np.array([[1, 2], [3, 4]])\n",
    "arr2 = np.array([[5, 6]])\n",
    "\n",
    "# Vertically stacking the arrays\n",
    "result_vstack = np.vstack((arr1, arr2))\n",
    "\n",
    "print(\"vstack result:\")\n",
    "print(result_vstack)\n",
    "\n",
    "# Explanation: The two arrays are combined such that arr2 is placed below arr1."
   ]
  },
  {
   "cell_type": "markdown",
   "metadata": {},
   "source": [
    "2. __`np.hstack()` (Horizontal Stack)__\n",
    "- Purpose: Stacks arrays horizontally, i.e., along columns. The arrays should have the same number of rows (height) but can have different numbers of columns.\n",
    "- Behavior: Combines arrays side by side."
   ]
  },
  {
   "cell_type": "code",
   "execution_count": 38,
   "metadata": {},
   "outputs": [
    {
     "name": "stdout",
     "output_type": "stream",
     "text": [
      "hstack result:\n",
      "[[1 2 5]\n",
      " [3 4 6]]\n"
     ]
    }
   ],
   "source": [
    "# Example\n",
    "\n",
    "import numpy as np\n",
    "\n",
    "# Creating two 2D arrays\n",
    "arr1 = np.array([[1, 2], [3, 4]])\n",
    "arr2 = np.array([[5], [6]])\n",
    "\n",
    "# Horizontally stacking the arrays\n",
    "result_hstack = np.hstack((arr1, arr2))\n",
    "\n",
    "print(\"hstack result:\")\n",
    "print(result_hstack)\n",
    "\n",
    "# Explanation: The two arrays are combined such that arr2 is added as an extra column to arr1."
   ]
  },
  {
   "cell_type": "markdown",
   "metadata": {},
   "source": [
    "### Key Differences Between `vstack()` and `hstack()` in NumPy\n",
    "\n",
    "| Function   | Stacking Direction        | Requirements for Shape             | Example Output (Combined)      |\n",
    "|------------|---------------------------|------------------------------------|--------------------------------|\n",
    "| `vstack()` | Vertical (along rows)     | Same number of columns (width)     | Arrays are stacked top-to-bottom |\n",
    "| `hstack()` | Horizontal (along columns) | Same number of rows (height)       | Arrays are stacked side-by-side |\n"
   ]
  },
  {
   "cell_type": "markdown",
   "metadata": {},
   "source": [
    "## 8. Explain the differences between fliplr() and flipud() methods in NumPy, including their effects on various  array dimensions."
   ]
  },
  {
   "cell_type": "markdown",
   "metadata": {},
   "source": [
    "In NumPy, fliplr() and flipud() are methods used to flip arrays along different axes. Here's a breakdown of their differences and effects:\n",
    "\n",
    "1. __`np.fliplr()` (Flip Left to Right)__\n",
    "- Purpose: Flips the array horizontally, i.e., reverses the order of columns. This method only works on arrays with 2 or more dimensions.\n",
    "- Effect: The leftmost column becomes the rightmost, the second leftmost becomes the second rightmost, and so on.\n"
   ]
  },
  {
   "cell_type": "code",
   "execution_count": 39,
   "metadata": {},
   "outputs": [
    {
     "name": "stdout",
     "output_type": "stream",
     "text": [
      "Original array:\n",
      "[[1 2 3]\n",
      " [4 5 6]]\n",
      "\n",
      "fliplr result:\n",
      "[[3 2 1]\n",
      " [6 5 4]]\n"
     ]
    }
   ],
   "source": [
    "# Example\n",
    "\n",
    "import numpy as np\n",
    "\n",
    "# Creating a 2D array\n",
    "arr = np.array([[1, 2, 3],\n",
    "                [4, 5, 6]])\n",
    "\n",
    "# Flipping the array horizontally (left to right)\n",
    "result_fliplr = np.fliplr(arr)\n",
    "\n",
    "print(\"Original array:\")\n",
    "print(arr)\n",
    "\n",
    "print(\"\\nfliplr result:\")\n",
    "print(result_fliplr)\n",
    "\n",
    "# Explanation: fliplr() flips the columns, reversing their order while the rows remain unchanged."
   ]
  },
  {
   "cell_type": "markdown",
   "metadata": {},
   "source": [
    "2. __`np.flipud()` (Flip Up to Down)__\n",
    "- Purpose: Flips the array vertically, i.e., reverses the order of rows. This method works on arrays with any number of dimensions.\n",
    "- Effect: The topmost row becomes the bottommost, the second topmost becomes the second bottommost, and so on."
   ]
  },
  {
   "cell_type": "code",
   "execution_count": 40,
   "metadata": {},
   "outputs": [
    {
     "name": "stdout",
     "output_type": "stream",
     "text": [
      "Original array:\n",
      "[[1 2 3]\n",
      " [4 5 6]]\n",
      "\n",
      "flipud result:\n",
      "[[4 5 6]\n",
      " [1 2 3]]\n"
     ]
    }
   ],
   "source": [
    "# Example\n",
    "\n",
    "import numpy as np\n",
    "\n",
    "# Creating a 2D array\n",
    "arr = np.array([[1, 2, 3],\n",
    "                [4, 5, 6]])\n",
    "\n",
    "# Flipping the array vertically (up to down)\n",
    "result_flipud = np.flipud(arr)\n",
    "\n",
    "print(\"Original array:\")\n",
    "print(arr)\n",
    "\n",
    "print(\"\\nflipud result:\")\n",
    "print(result_flipud)\n",
    "\n",
    "# Explanation: flipud() flips the rows, reversing their order while the columns remain unchanged."
   ]
  },
  {
   "cell_type": "markdown",
   "metadata": {},
   "source": [
    "### Key Differences Between `fliplr()` and `flipud()` in NumPy\n",
    "\n",
    "| Function   | Flipping Direction          | Dimension Requirement   | Effect on 2D Arrays           |\n",
    "|------------|-----------------------------|-------------------------|-------------------------------|\n",
    "| `fliplr()` | Horizontal (Left to Right)  | Works on 2D or higher    | Reverses the order of columns  |\n",
    "| `flipud()` | Vertical (Up to Down)       | Works on any dimension   | Reverses the order of rows     |\n"
   ]
  },
  {
   "cell_type": "markdown",
   "metadata": {},
   "source": [
    "## 9. Discuss the functionality of the array_split() method in NumPy. How does it handle uneven splits?"
   ]
  },
  {
   "cell_type": "markdown",
   "metadata": {},
   "source": [
    "### `array_split()` in NumPy\n",
    "The array_split() method in NumPy is used to split an array into multiple sub-arrays. Unlike split(), which requires the array to be split evenly, array_split() can handle uneven splits, making it more flexible.\n",
    "\n",
    "__Key Features:__\n",
    "- Flexible Splitting: It allows you to split an array into a specified number of sub-arrays, even if the total number of elements cannot be evenly divided.\n",
    "- Handling Uneven Splits: If the array cannot be divided evenly, array_split() creates sub-arrays of different sizes, with some sub-arrays having one extra element compared to others.\n",
    "\n",
    "__Syntax:__\n",
    "`numpy.array_split(ary, indices_or_sections, axis=0)`\n",
    "- ary: The input array.\n",
    "- indices_or_sections: The number of sub-arrays or the indices at which to split.\n",
    "- axis: The axis along which to split the array (default is 0).\n"
   ]
  },
  {
   "cell_type": "code",
   "execution_count": 41,
   "metadata": {},
   "outputs": [
    {
     "name": "stdout",
     "output_type": "stream",
     "text": [
      "[array([1, 2]), array([3, 4]), array([5, 6])]\n"
     ]
    }
   ],
   "source": [
    "# Example 1: Even Split\n",
    "# If the array can be split evenly, the sub-arrays will all have the same number of elements.\n",
    "\n",
    "import numpy as np\n",
    "\n",
    "arr = np.array([1, 2, 3, 4, 5, 6])\n",
    "# Splitting into 3 equal parts\n",
    "result = np.array_split(arr, 3)\n",
    "\n",
    "print(result)\n",
    "\n",
    "# Here, the array is split evenly into three sub-arrays, each containing 2 elements."
   ]
  },
  {
   "cell_type": "code",
   "execution_count": 45,
   "metadata": {},
   "outputs": [
    {
     "name": "stdout",
     "output_type": "stream",
     "text": [
      "[array([1, 2]), array([3, 4]), array([5])]\n"
     ]
    }
   ],
   "source": [
    "# Example 2: Uneven Split\n",
    "# If the array cannot be evenly divided, array_split() handles this by making some sub-arrays larger.\n",
    "\n",
    "import numpy as np\n",
    "\n",
    "arr = np.array([1, 2, 3, 4, 5])\n",
    "# Splitting into 3 parts (uneven)\n",
    "result = np.array_split(arr, 3)\n",
    "\n",
    "print(result)\n",
    "\n",
    "# Explanation: Since 5 elements cannot be split evenly into 3 parts, the first two sub-arrays have 2 elements each, while the last sub-array has 1 element. NumPy automatically adjusts the sizes of the sub-arrays to handle uneven splits.\n"
   ]
  },
  {
   "cell_type": "code",
   "execution_count": 46,
   "metadata": {},
   "outputs": [
    {
     "name": "stdout",
     "output_type": "stream",
     "text": [
      "[array([[1, 2],\n",
      "       [4, 5]]), array([[3],\n",
      "       [6]])]\n"
     ]
    }
   ],
   "source": [
    "# Example 3: 2D Array Split Along a Specific Axis\n",
    "# You can also split multi-dimensional arrays along a specific axis.\n",
    "\n",
    "arr_2d = np.array([[1, 2, 3], [4, 5, 6]])\n",
    "\n",
    "# Splitting into 2 parts along axis 1 (columns)\n",
    "result = np.array_split(arr_2d, 2, axis=1)\n",
    "\n",
    "print(result)\n",
    "\n",
    "# Explanation: The 2D array is split along the column axis (axis=1). The first sub-array contains the first two columns, and the second sub-array contains the last column.\n"
   ]
  },
  {
   "cell_type": "markdown",
   "metadata": {},
   "source": [
    "__Summary:__\n",
    "- array_split() is used to split arrays into multiple sub-arrays, with the ability to handle uneven splits.\n",
    "- When the array cannot be split evenly, some sub-arrays may have more elements than others.\n",
    "- It can be used with arrays of any dimension and along any axis.\n",
    "- This flexibility makes array_split() a versatile tool in scenarios where you cannot guarantee an even split of data."
   ]
  },
  {
   "cell_type": "markdown",
   "metadata": {},
   "source": [
    "## 10. Explain the concepts of vectorization and broadcasting in NumPy. How do they contribute to efficient array operations?"
   ]
  },
  {
   "cell_type": "markdown",
   "metadata": {},
   "source": [
    "__Vectorization in NumPy__\n",
    "Vectorization refers to the process of converting operations that would typically require explicit loops into a form that can be applied directly to entire arrays. In NumPy, this is achieved by applying operations on arrays without the need for looping through individual elements. This leads to cleaner and more efficient code.\n",
    "\n",
    "__Benefits of Vectorization:__\n",
    "- Performance: Vectorized operations are implemented in compiled C code, which makes them much faster than their Python loop equivalents.\n",
    "- Readability: Code becomes more concise and easier to read, as it eliminates the need for complex looping structures.\n",
    "- Less Error-Prone: Reduces the likelihood of errors associated with manual indexing and looping."
   ]
  },
  {
   "cell_type": "code",
   "execution_count": 48,
   "metadata": {},
   "outputs": [
    {
     "name": "stdout",
     "output_type": "stream",
     "text": [
      "[5 7 9]\n"
     ]
    }
   ],
   "source": [
    "# Example\n",
    "\n",
    "import numpy as np\n",
    "\n",
    "# Creating two arrays\n",
    "a = np.array([1, 2, 3])\n",
    "b = np.array([4, 5, 6])\n",
    "\n",
    "# Vectorized addition\n",
    "result = a + b\n",
    "\n",
    "print(result)\n",
    "\n",
    "# In this example, the addition of two arrays is performed directly without any loops.\n"
   ]
  },
  {
   "cell_type": "markdown",
   "metadata": {},
   "source": [
    "__Broadcasting in NumPy__\n",
    "Broadcasting is a powerful feature in NumPy that allows operations on arrays of different shapes and sizes. It automatically expands the smaller array to match the dimensions of the larger array, enabling element-wise operations without explicitly reshaping the arrays.\n",
    "\n",
    "__Rules of Broadcasting:__\n",
    "- If the arrays have different numbers of dimensions, the shape of the smaller array is padded with ones on the left side until both shapes are the same.\n",
    "- If the dimensions are different, the size of the dimension in one array must be 1 or must match the corresponding dimension of the other array.\n",
    "- If one of the arrays has a dimension size of 1, it is stretched to match the size of the other array's dimension."
   ]
  },
  {
   "cell_type": "code",
   "execution_count": 49,
   "metadata": {},
   "outputs": [
    {
     "name": "stdout",
     "output_type": "stream",
     "text": [
      "[[11 22 33]\n",
      " [14 25 36]]\n"
     ]
    }
   ],
   "source": [
    "# Example\n",
    "\n",
    "import numpy as np\n",
    "\n",
    "# Creating a 2D array\n",
    "arr = np.array([[1, 2, 3],\n",
    "                [4, 5, 6]])\n",
    "\n",
    "# Creating a 1D array\n",
    "b = np.array([10, 20, 30])\n",
    "\n",
    "# Broadcasting the 1D array to add to the 2D array\n",
    "result = arr + b\n",
    "\n",
    "print(result)\n",
    "\n",
    "# In this example, the 1D array b is broadcasted across the 2D array arr, allowing for element-wise addition without the need for reshaping.\n"
   ]
  },
  {
   "cell_type": "markdown",
   "metadata": {},
   "source": [
    "__Contribution to Efficient Array Operations__\n",
    "- Reduced Computation Time: Both vectorization and broadcasting eliminate the overhead of loops, significantly improving performance for large datasets.\n",
    "- Memory Efficiency: Broadcasting allows operations on arrays of different shapes without creating unnecessary copies of data, optimizing memory usage.\n",
    "- Simplified Code: These concepts lead to more straightforward and cleaner code, making it easier to write, understand, and maintain.\n",
    "\n",
    "__Summary__\n",
    "- Vectorization allows for operations on entire arrays at once, enhancing performance and readability.\n",
    "- Broadcasting enables operations between arrays of different shapes by automatically expanding smaller arrays, facilitating seamless element-wise operations."
   ]
  }
 ],
 "metadata": {
  "kernelspec": {
   "display_name": "Python 3",
   "language": "python",
   "name": "python3"
  },
  "language_info": {
   "codemirror_mode": {
    "name": "ipython",
    "version": 3
   },
   "file_extension": ".py",
   "mimetype": "text/x-python",
   "name": "python",
   "nbconvert_exporter": "python",
   "pygments_lexer": "ipython3",
   "version": "3.12.4"
  }
 },
 "nbformat": 4,
 "nbformat_minor": 2
}
