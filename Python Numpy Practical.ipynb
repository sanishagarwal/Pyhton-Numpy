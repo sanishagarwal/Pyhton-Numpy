{
 "cells": [
  {
   "cell_type": "markdown",
   "metadata": {},
   "source": [
    "# __*Python NumPy Practical*__"
   ]
  },
  {
   "cell_type": "markdown",
   "metadata": {},
   "source": [
    "## 1. Create a 3x3 NumPy array with random integers between 1 and 100. Then, interchange its rows and columns."
   ]
  },
  {
   "cell_type": "code",
   "execution_count": 1,
   "metadata": {},
   "outputs": [
    {
     "name": "stdout",
     "output_type": "stream",
     "text": [
      "Original array:\n",
      "[[69 12  9]\n",
      " [76 19 63]\n",
      " [53 95 38]]\n",
      "\n",
      "Transposed array:\n",
      "[[69 76 53]\n",
      " [12 19 95]\n",
      " [ 9 63 38]]\n"
     ]
    }
   ],
   "source": [
    "import numpy as np\n",
    "\n",
    "# Step 1: Create a 3x3 NumPy array with random integers between 1 and 100\n",
    "arr = np.random.randint(1, 101, size=(3, 3))\n",
    "\n",
    "print(\"Original array:\")\n",
    "print(arr)\n",
    "\n",
    "# Step 2: Interchange rows and columns (transpose the array)\n",
    "transposed_arr = arr.T\n",
    "\n",
    "print(\"\\nTransposed array:\")\n",
    "print(transposed_arr)\n"
   ]
  },
  {
   "cell_type": "markdown",
   "metadata": {},
   "source": [
    "### __Explanation:__\n",
    "- `np.random.randint(1, 101, size=(3, 3))` : Generates a 3x3 array with random integers between 1 and 100.\n",
    "- `arr.T` : Transposes the array, interchanging rows and columns."
   ]
  },
  {
   "cell_type": "markdown",
   "metadata": {},
   "source": [
    "## 2. Generate a 1D NumPy array with 10 elements. Reshape it into a 2x5 array, then into a 5x2 array."
   ]
  },
  {
   "cell_type": "code",
   "execution_count": 1,
   "metadata": {},
   "outputs": [
    {
     "name": "stdout",
     "output_type": "stream",
     "text": [
      "Original 1D array:\n",
      "[0 1 2 3 4 5 6 7 8 9]\n",
      "\n",
      "Reshaped into 2x5 array:\n",
      "[[0 1 2 3 4]\n",
      " [5 6 7 8 9]]\n",
      "\n",
      "Reshaped into 5x2 array:\n",
      "[[0 1]\n",
      " [2 3]\n",
      " [4 5]\n",
      " [6 7]\n",
      " [8 9]]\n"
     ]
    }
   ],
   "source": [
    "import numpy as np\n",
    "\n",
    "# Step 1: Generate a 1D NumPy array with 10 elements\n",
    "arr_1d = np.arange(10)\n",
    "\n",
    "print(\"Original 1D array:\")\n",
    "print(arr_1d)\n",
    "\n",
    "# Step 2: Reshape the 1D array into a 2x5 array\n",
    "arr_2x5 = arr_1d.reshape(2, 5)\n",
    "\n",
    "print(\"\\nReshaped into 2x5 array:\")\n",
    "print(arr_2x5)\n",
    "\n",
    "# Step 3: Reshape the array into a 5x2 array\n",
    "arr_5x2 = arr_1d.reshape(5, 2)\n",
    "\n",
    "print(\"\\nReshaped into 5x2 array:\")\n",
    "print(arr_5x2)\n"
   ]
  },
  {
   "cell_type": "markdown",
   "metadata": {},
   "source": [
    "### __Explanation:__\n",
    "- `np.arange(10)` : Creates a 1D array with 10 elements ranging from 0 to 9.\n",
    "- `arr_1d.reshape(2, 5)` : Reshapes the 1D array into a 2x5 array.\n",
    "- `arr_1d.reshape(5, 2)` : Reshapes the same 1D array into a 5x2 array."
   ]
  },
  {
   "cell_type": "markdown",
   "metadata": {},
   "source": []
  },
  {
   "cell_type": "code",
   "execution_count": 2,
   "metadata": {},
   "outputs": [
    {
     "name": "stdout",
     "output_type": "stream",
     "text": [
      "Original 4x4 array:\n",
      "[[0.03569752 0.32639583 0.25546777 0.72655922]\n",
      " [0.96200324 0.61665625 0.30419855 0.55371603]\n",
      " [0.28305902 0.96317265 0.05642664 0.57500496]\n",
      " [0.21664474 0.13666581 0.06470025 0.98553345]]\n",
      "\n",
      "6x6 array with a border of zeros:\n",
      "[[0.         0.         0.         0.         0.         0.        ]\n",
      " [0.         0.03569752 0.32639583 0.25546777 0.72655922 0.        ]\n",
      " [0.         0.96200324 0.61665625 0.30419855 0.55371603 0.        ]\n",
      " [0.         0.28305902 0.96317265 0.05642664 0.57500496 0.        ]\n",
      " [0.         0.21664474 0.13666581 0.06470025 0.98553345 0.        ]\n",
      " [0.         0.         0.         0.         0.         0.        ]]\n"
     ]
    }
   ],
   "source": [
    "# Using np.zeros()\n",
    "\n",
    "import numpy as np\n",
    "\n",
    "# Step 1: Create a 4x4 NumPy array with random float values\n",
    "arr_4x4 = np.random.rand(4, 4)\n",
    "\n",
    "print(\"Original 4x4 array:\")\n",
    "print(arr_4x4)\n",
    "\n",
    "# Step 2: Create a 6x6 array filled with zeros\n",
    "arr_6x6 = np.zeros((6, 6))\n",
    "\n",
    "# Step 3: Place the 4x4 array in the center of the 6x6 array\n",
    "arr_6x6[1:5, 1:5] = arr_4x4\n",
    "\n",
    "print(\"\\n6x6 array with a border of zeros:\")\n",
    "print(arr_6x6)\n"
   ]
  },
  {
   "cell_type": "code",
   "execution_count": 3,
   "metadata": {},
   "outputs": [
    {
     "name": "stdout",
     "output_type": "stream",
     "text": [
      "Original 4x4 array:\n",
      "[[0.51386207 0.74390973 0.16271391 0.92194696]\n",
      " [0.8801994  0.30629397 0.70891842 0.11003212]\n",
      " [0.99967227 0.59877709 0.21145699 0.36202481]\n",
      " [0.84726408 0.47704786 0.1014806  0.7550267 ]]\n",
      "\n",
      "6x6 array with a border of zeros:\n",
      "[[0.         0.         0.         0.         0.         0.        ]\n",
      " [0.         0.51386207 0.74390973 0.16271391 0.92194696 0.        ]\n",
      " [0.         0.8801994  0.30629397 0.70891842 0.11003212 0.        ]\n",
      " [0.         0.99967227 0.59877709 0.21145699 0.36202481 0.        ]\n",
      " [0.         0.84726408 0.47704786 0.1014806  0.7550267  0.        ]\n",
      " [0.         0.         0.         0.         0.         0.        ]]\n"
     ]
    }
   ],
   "source": [
    "# Using np.pad()\n",
    "# syntax: np.pad(array, pad_width, mode='constant', constant_values=0)\n",
    "\n",
    "import numpy as np\n",
    "\n",
    "# Step 1: Create a 4x4 NumPy array with random float values\n",
    "arr_4x4 = np.random.rand(4, 4)\n",
    "\n",
    "print(\"Original 4x4 array:\")\n",
    "print(arr_4x4)\n",
    "\n",
    "# Step 2: Add a border of zeros around the 4x4 array, resulting in a 6x6 array\n",
    "arr_6x6 = np.pad(arr_4x4, pad_width=1, mode='constant', constant_values=0)\n",
    "\n",
    "print(\"\\n6x6 array with a border of zeros:\")\n",
    "print(arr_6x6)\n"
   ]
  },
  {
   "cell_type": "markdown",
   "metadata": {},
   "source": [
    "### __Explanation__\n",
    "- `np.random.rand(4, 4)` : Creates a 4x4 array with random float values between 0 and 1.\n",
    "- `np.pad()` : Adds padding around the array.\n",
    "- `pad_width=1` : Adds a border of width 1.\n",
    "    - mode='constant', constant_values=0: Fills the border with zeros.\n",
    "\n",
    "### __Padding Parameters:__\n",
    "- array: The input array to be padded.\n",
    "- pad_width: The number of values padded to the edges of each axis. It can be:\n",
    "    - A single integer: Pads the same width on every axis.\n",
    "    - A tuple of two integers: Specifies different padding for before and after each axis.\n",
    "    - A tuple of tuples: Specifies padding for each axis separately.\n",
    "- mode: The method to use for padding. Some common options:\n",
    "    - 'constant': Pads with a constant value (default value is 0).\n",
    "    - 'edge': Pads using the edge values of the array.\n",
    "    - 'linear_ramp': Pads with a linear ramp of values.\n",
    "    - 'symmetric': Pads with values symmetrically from the edge.\n",
    "- constant_values: When using 'constant' mode, this specifies the value(s) to use for padding. Default is 0.    "
   ]
  },
  {
   "cell_type": "markdown",
   "metadata": {},
   "source": [
    "## 4. Using NumPy, create an array of integers from 10 to 60 with a step of 5."
   ]
  },
  {
   "cell_type": "code",
   "execution_count": 6,
   "metadata": {},
   "outputs": [
    {
     "name": "stdout",
     "output_type": "stream",
     "text": [
      "[10 15 20 25 30 35 40 45 50 55 60]\n"
     ]
    }
   ],
   "source": [
    "import numpy as np\n",
    "\n",
    "# Create an array of integers from 10 to 60 with a step of 5\n",
    "arr = np.arange(10, 65, 5)\n",
    "\n",
    "print(arr)\n",
    "\n",
    "# np.arange(10, 65, 5): Generates an array starting at 10, up to (but not including) 65, with a step of 5."
   ]
  },
  {
   "cell_type": "code",
   "execution_count": 7,
   "metadata": {},
   "outputs": [
    {
     "name": "stdout",
     "output_type": "stream",
     "text": [
      "[10 15 20 25 30 35 40 45 50 55 60]\n"
     ]
    }
   ],
   "source": [
    "import numpy as np\n",
    "\n",
    "# Create an array of integers from 10 to 60 with a step of 5 using linspace\n",
    "arr = np.linspace(10, 60, num=11, dtype=int)\n",
    "\n",
    "print(arr)\n",
    "\n",
    "# np.linspace(10, 60, num=11, dtype=int): Generates 11 evenly spaced values from 10 to 60, inclusive, and converts them to integers."
   ]
  },
  {
   "cell_type": "markdown",
   "metadata": {},
   "source": [
    "## 5. Create a NumPy array of strings ['python', 'numpy', 'pandas']. Apply different case transformations (uppercase, lowercase, title case, etc.) to each element."
   ]
  },
  {
   "cell_type": "code",
   "execution_count": 10,
   "metadata": {},
   "outputs": [
    {
     "name": "stdout",
     "output_type": "stream",
     "text": [
      "Original array:\n",
      "['python' 'numpy' 'pandas']\n",
      "\n",
      "Uppercase:\n",
      "['PYTHON' 'NUMPY' 'PANDAS']\n",
      "\n",
      "Lowercase:\n",
      "['python' 'numpy' 'pandas']\n",
      "\n",
      "Title case:\n",
      "['Python' 'Numpy' 'Pandas']\n",
      "\n",
      "Capitalized:\n",
      "['Python' 'Numpy' 'Pandas']\n"
     ]
    }
   ],
   "source": [
    "import numpy as np\n",
    "\n",
    "# Create a NumPy array of strings\n",
    "arr = np.array(['python', 'numpy', 'pandas'])\n",
    "\n",
    "# Apply different case transformations using np.char\n",
    "upper_case = np.char.upper(arr)         # Uppercase\n",
    "lower_case = np.char.lower(arr)         # Lowercase\n",
    "title_case = np.char.title(arr)         # Title case\n",
    "capitalize_case = np.char.capitalize(arr)  # Capitalize the first letter\n",
    "\n",
    "# Print the results\n",
    "print(\"Original array:\")\n",
    "print(arr)\n",
    "print(\"\\nUppercase:\")\n",
    "print(upper_case)\n",
    "print(\"\\nLowercase:\")\n",
    "print(lower_case)\n",
    "print(\"\\nTitle case:\")\n",
    "print(title_case)\n",
    "print(\"\\nCapitalized:\")\n",
    "print(capitalize_case)\n"
   ]
  },
  {
   "cell_type": "markdown",
   "metadata": {},
   "source": [
    "## 6. Generate a NumPy array of words. Insert a space between each character of every word in the array."
   ]
  },
  {
   "cell_type": "code",
   "execution_count": 11,
   "metadata": {},
   "outputs": [
    {
     "name": "stdout",
     "output_type": "stream",
     "text": [
      "['p y t h o n' 'n u m p y' 'p a n d a s']\n"
     ]
    }
   ],
   "source": [
    "import numpy as np\n",
    "\n",
    "# Create a NumPy array of strings\n",
    "words = np.array(['python', 'numpy', 'pandas'])\n",
    "\n",
    "# Join characters of each string in the array with a space\n",
    "joined = np.char.join(' ', words)\n",
    "\n",
    "print(joined)\n"
   ]
  },
  {
   "cell_type": "markdown",
   "metadata": {},
   "source": [
    "__Syntax:__  `np.char.join(sep, arr)`\n",
    "\n",
    "- sep: A string that separates the elements. This string will be inserted between the characters or strings being joined.\n",
    "- arr: The input array of strings or characters.\n"
   ]
  },
  {
   "cell_type": "markdown",
   "metadata": {},
   "source": [
    "## 7. Create two 2D NumPy arrays and perform element-wise addition, subtraction, multiplication, and division."
   ]
  },
  {
   "cell_type": "code",
   "execution_count": 12,
   "metadata": {},
   "outputs": [
    {
     "name": "stdout",
     "output_type": "stream",
     "text": [
      "Array 1:\n",
      "[[1 2 3]\n",
      " [4 5 6]]\n",
      "\n",
      "Array 2:\n",
      "[[ 7  8  9]\n",
      " [10 11 12]]\n",
      "\n",
      "Element-wise Addition:\n",
      "[[ 8 10 12]\n",
      " [14 16 18]]\n",
      "\n",
      "Element-wise Subtraction:\n",
      "[[-6 -6 -6]\n",
      " [-6 -6 -6]]\n",
      "\n",
      "Element-wise Multiplication:\n",
      "[[ 7 16 27]\n",
      " [40 55 72]]\n",
      "\n",
      "Element-wise Division:\n",
      "[[0.14285714 0.25       0.33333333]\n",
      " [0.4        0.45454545 0.5       ]]\n"
     ]
    }
   ],
   "source": [
    "import numpy as np\n",
    "\n",
    "# Create two 2D NumPy arrays\n",
    "array1 = np.array([[1, 2, 3], [4, 5, 6]])\n",
    "array2 = np.array([[7, 8, 9], [10, 11, 12]])\n",
    "\n",
    "# Element-wise addition\n",
    "addition = array1 + array2\n",
    "\n",
    "# Element-wise subtraction\n",
    "subtraction = array1 - array2\n",
    "\n",
    "# Element-wise multiplication\n",
    "multiplication = array1 * array2\n",
    "\n",
    "# Element-wise division\n",
    "division = array1 / array2\n",
    "\n",
    "# Print the results\n",
    "print(\"Array 1:\")\n",
    "print(array1)\n",
    "print(\"\\nArray 2:\")\n",
    "print(array2)\n",
    "print(\"\\nElement-wise Addition:\")\n",
    "print(addition)\n",
    "print(\"\\nElement-wise Subtraction:\")\n",
    "print(subtraction)\n",
    "print(\"\\nElement-wise Multiplication:\")\n",
    "print(multiplication)\n",
    "print(\"\\nElement-wise Division:\")\n",
    "print(division)\n"
   ]
  },
  {
   "cell_type": "markdown",
   "metadata": {},
   "source": [
    "## 8. Use NumPy to create a 5x5 identity matrix, then extract its diagonal elements."
   ]
  },
  {
   "cell_type": "code",
   "execution_count": 13,
   "metadata": {},
   "outputs": [
    {
     "name": "stdout",
     "output_type": "stream",
     "text": [
      "5x5 Identity Matrix:\n",
      "[[1. 0. 0. 0. 0.]\n",
      " [0. 1. 0. 0. 0.]\n",
      " [0. 0. 1. 0. 0.]\n",
      " [0. 0. 0. 1. 0.]\n",
      " [0. 0. 0. 0. 1.]]\n",
      "\n",
      "Diagonal Elements:\n",
      "[1. 1. 1. 1. 1.]\n"
     ]
    }
   ],
   "source": [
    "import numpy as np\n",
    "\n",
    "# Create a 5x5 identity matrix\n",
    "identity_matrix = np.eye(5)\n",
    "\n",
    "# Extract the diagonal elements\n",
    "diagonal_elements = np.diagonal(identity_matrix)\n",
    "\n",
    "# Print the results\n",
    "print(\"5x5 Identity Matrix:\")\n",
    "print(identity_matrix)\n",
    "print(\"\\nDiagonal Elements:\")\n",
    "print(diagonal_elements)\n"
   ]
  },
  {
   "cell_type": "markdown",
   "metadata": {},
   "source": [
    "## 9. Generate a NumPy array of 100 random integers between 0 and 1000. Find and display all prime numbers in this array."
   ]
  },
  {
   "cell_type": "code",
   "execution_count": 16,
   "metadata": {},
   "outputs": [
    {
     "name": "stdout",
     "output_type": "stream",
     "text": [
      "Random Integers:\n",
      "[ 34 148 241 972 570 270 203 998 902 640 150 503 693 772 357 285 688 503\n",
      " 220 749  88 213 896 208 278 155 702 743 207 436 952  20 709 329 605 219\n",
      " 831 426 237 504 104 306  88 555 508 894 803 434 266 720 291 614 962 919\n",
      " 218 466 816 953 714  58 345 780 386 107 965 469 849 656 515 828 724 923\n",
      " 387 726  29 732  27 157 847 700 292 108 290 545 858 440 442 149 661 734\n",
      " 967 280 577 317 639  79 819 959 954 373]\n",
      "\n",
      "Prime Numbers:\n",
      "[241 503 503 743 709 919 953 107  29 157 149 661 967 577 317  79 373]\n"
     ]
    }
   ],
   "source": [
    "import numpy as np\n",
    "\n",
    "# Generate a NumPy array of 100 random integers between 0 and 1000\n",
    "random_integers = np.random.randint(0, 1000, size=100)\n",
    "\n",
    "# Function to check if a number is prime\n",
    "def is_prime(n):\n",
    "    if n <= 1:\n",
    "        return False\n",
    "    for i in range(2, int(n**0.5) + 1):\n",
    "        if n % i == 0:\n",
    "            return False\n",
    "    return True\n",
    "\n",
    "# Find all prime numbers in the array\n",
    "prime_numbers = np.array([num for num in random_integers if is_prime(num)])\n",
    "\n",
    "# Print the results\n",
    "print(\"Random Integers:\")\n",
    "print(random_integers)\n",
    "print(\"\\nPrime Numbers:\")\n",
    "print(prime_numbers)\n"
   ]
  },
  {
   "cell_type": "markdown",
   "metadata": {},
   "source": [
    "## 10. Create a NumPy array representing daily temperatures for a month. Calculate and display the weekly averages."
   ]
  },
  {
   "cell_type": "code",
   "execution_count": 22,
   "metadata": {},
   "outputs": [
    {
     "name": "stdout",
     "output_type": "stream",
     "text": [
      "Daily Temperatures for the Month:\n",
      "[32 35 19 20 34 21 17 34 35 34 30 21 15 16 27 28 26 28 33 15 30 15 21 25\n",
      " 25 21 29 17 26 32]\n",
      "\n",
      "Weekly Averages (first 4 weeks):\n",
      "[25.42857143 26.42857143 26.71428571 21.85714286]\n",
      "\n",
      "Average for the last 2 days: 29.0\n"
     ]
    }
   ],
   "source": [
    "import numpy as np\n",
    "\n",
    "# Create a NumPy array with 30 random daily temperatures (e.g., between 15°C and 35°C)\n",
    "daily_temperatures = np.random.randint(15, 36, size=30)\n",
    "\n",
    "# Use the first 28 days for 4 full weeks\n",
    "weeks = daily_temperatures[:28].reshape(4, 7)\n",
    "\n",
    "# Calculate weekly averages for the first 4 full weeks\n",
    "weekly_averages = weeks.mean(axis=1)\n",
    "\n",
    "# Calculate the average for the remaining 2 days\n",
    "last_2_days_avg = daily_temperatures[28:].mean()\n",
    "\n",
    "# Print daily temperatures, weekly averages, and the average for the last 2 days\n",
    "print(\"Daily Temperatures for the Month:\")\n",
    "print(daily_temperatures)\n",
    "\n",
    "print(\"\\nWeekly Averages (first 4 weeks):\")\n",
    "print(weekly_averages)\n",
    "\n",
    "print(f\"\\nAverage for the last 2 days: {last_2_days_avg}\")\n"
   ]
  }
 ],
 "metadata": {
  "kernelspec": {
   "display_name": "Python 3",
   "language": "python",
   "name": "python3"
  },
  "language_info": {
   "codemirror_mode": {
    "name": "ipython",
    "version": 3
   },
   "file_extension": ".py",
   "mimetype": "text/x-python",
   "name": "python",
   "nbconvert_exporter": "python",
   "pygments_lexer": "ipython3",
   "version": "3.12.4"
  }
 },
 "nbformat": 4,
 "nbformat_minor": 2
}
